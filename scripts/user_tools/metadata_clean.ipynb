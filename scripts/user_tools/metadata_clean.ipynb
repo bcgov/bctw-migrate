{
 "cells": [
  {
   "cell_type": "markdown",
   "id": "619ed56e-0d52-4e77-ad28-867a3c9554a5",
   "metadata": {},
   "source": [
    "## Package Import"
   ]
  },
  {
   "cell_type": "code",
   "execution_count": null,
   "id": "e8a25246-6fa4-4ee6-bf42-f5ec49df592e",
   "metadata": {},
   "outputs": [],
   "source": [
    "import pandas as pd\n",
    "import openpyxl"
   ]
  },
  {
   "cell_type": "markdown",
   "id": "8ad9f472-8f23-429e-9383-29de100ea44a",
   "metadata": {},
   "source": [
    "## Set Pandas Display Options"
   ]
  },
  {
   "cell_type": "code",
   "execution_count": null,
   "id": "2e74a083-88ed-47ae-964e-781891fca687",
   "metadata": {},
   "outputs": [],
   "source": [
    "pd.set_option(\"display.max_rows\", None)\n",
    "pd.set_option(\"display.max_columns\", None)"
   ]
  },
  {
   "cell_type": "markdown",
   "id": "c2684ae1-32ce-4a2f-a161-9122b2d613ec",
   "metadata": {},
   "source": [
    "## Data Inputs\n"
   ]
  },
  {
   "cell_type": "code",
   "execution_count": null,
   "id": "dbf181e1-48de-4434-a59b-eca6ffb171c4",
   "metadata": {},
   "outputs": [],
   "source": [
    "codetable = r\"\\\\level\\s40006\\ESD\\EI\\Wildlife\\WSI\\Caribou_Program\\Projects\\BCTW\\dataloading_scripting\\bctw-migrate\\templates\\inputs\\code_table_20211021.csv\"\n",
    "codeheader = r\"\\\\level\\s40006\\ESD\\EI\\Wildlife\\WSI\\Caribou_Program\\Projects\\BCTW\\dataloading_scripting\\bctw-migrate\\templates\\inputs\\codeheader_table_20211021.csv\" \n",
    "codelookup = r\"\\\\level\\s40006\\ESD\\EI\\Wildlife\\WSI\\Caribou_Program\\Projects\\BCTW\\dataloading_scripting\\bctw-migrate\\templates\\inputs\\codefieldlookup.csv\""
   ]
  },
  {
   "cell_type": "code",
   "execution_count": null,
   "id": "34259a01-dc66-4404-a63f-9b59527e49fd",
   "metadata": {},
   "outputs": [],
   "source": [
    "dfcodetable = pd.read_csv(codetable,index_col=\"code_header_id\")\n",
    "dfcodetable = dfcodetable[dfcodetable[\"valid_to\"].isnull()]\n",
    "\n",
    "dfcodeheader = pd.read_csv(codeheader,index_col=\"code_header_id\")\n",
    "dfcodeheader = dfcodeheader[dfcodeheader[\"valid_to\"].isnull()]\n",
    "\n",
    "dfcodelookup = pd.read_csv(codelookup,index_col='codeheader')"
   ]
  },
  {
   "cell_type": "markdown",
   "id": "da32895b-2d08-4d29-a8ca-1596762e885b",
   "metadata": {},
   "source": [
    "## Build Active Code Table\n",
    "This table is built automatically by filtering out unused codes and code headers and then joining on the code map for which Casylys data goes to which db field."
   ]
  },
  {
   "cell_type": "code",
   "execution_count": null,
   "id": "02b12baf-bcc1-4a73-a7a3-dd164ed8bbce",
   "metadata": {},
   "outputs": [],
   "source": [
    "activecode = dfcodetable.join(dfcodeheader,on=\"code_header_id\", rsuffix=\"_header\",sort=True)\n",
    "activecode = activecode[[\"code_id\",\"code_name\",\"code_description\",\"code_header_name\"]]"
   ]
  },
  {
   "cell_type": "code",
   "execution_count": null,
   "id": "e400eb3b-cb65-4876-8586-8522c7850f4d",
   "metadata": {
    "scrolled": true,
    "tags": []
   },
   "outputs": [],
   "source": [
    "activecode"
   ]
  },
  {
   "cell_type": "code",
   "execution_count": null,
   "id": "450d3a35-b9ab-4050-84c5-3218a9cc5649",
   "metadata": {},
   "outputs": [],
   "source": [
    "finalcodetable = activecode.join(dfcodelookup)\n",
    "finalcodetable = finalcodetable[finalcodetable[\"dbfield\"].notnull()]"
   ]
  },
  {
   "cell_type": "code",
   "execution_count": null,
   "id": "839c5db1-ef93-4d3e-a8ec-89a84e86e096",
   "metadata": {
    "scrolled": true,
    "tags": []
   },
   "outputs": [],
   "source": [
    "finalcodetable"
   ]
  },
  {
   "cell_type": "code",
   "execution_count": null,
   "id": "da3cd069-9a03-44fa-9dab-ba613726980c",
   "metadata": {},
   "outputs": [],
   "source": [
    "dfcodelookup= dfcodelookup[dfcodelookup.index.notnull()]"
   ]
  },
  {
   "cell_type": "code",
   "execution_count": null,
   "id": "ce6882bf-2577-4ab4-90ab-3425740456db",
   "metadata": {},
   "outputs": [],
   "source": [
    "dfcodelookup.head()"
   ]
  },
  {
   "cell_type": "markdown",
   "id": "caf4adab-9d94-4741-a7b9-4602eaf6b457",
   "metadata": {},
   "source": [
    "## Load Metadata sheet"
   ]
  },
  {
   "cell_type": "code",
   "execution_count": null,
   "id": "7bc14fe8-f29f-434b-afc8-95bbbd7126d4",
   "metadata": {},
   "outputs": [],
   "source": [
    "metadata= r\"\\\\level\\s40006\\ESD\\EI\\Wildlife\\WSI\\Caribou_Program\\Projects\\BCTW\\dataloading_scripting\\test_data\\metadata_test_itch.xlsx\"\n",
    "metadatasheet = \"Sheet1\""
   ]
  },
  {
   "cell_type": "code",
   "execution_count": null,
   "id": "a01e9267-822e-49bf-beac-471628932aa3",
   "metadata": {
    "tags": []
   },
   "outputs": [],
   "source": [
    "fieldlist=['Region',\n",
    " 'Species',\n",
    " 'Caribou Population Unit',\n",
    " 'WLH ID',\n",
    " 'Animal ID',\n",
    " 'Sex',\n",
    " 'Life Stage',\n",
    " 'Calf at Heel',\n",
    " 'Ear Tag Right',\n",
    " 'Ear Tag Left',\n",
    " 'Device ID',\n",
    " 'Radio Frequency',\n",
    " 'Re-capture',\n",
    " 'Reg_Key',\n",
    " 'Trans-location',\n",
    " 'Collar Type',\n",
    " 'Collar Make',\n",
    " 'Collar Model',\n",
    " 'Satellite Network',\n",
    " 'Capture Date',\n",
    " 'Capture Date Year',\n",
    " 'Capture Date Month',\n",
    " 'Capture UTM Zone',\n",
    " 'Capture UTM Easting',\n",
    " 'Capture UTM Northing',\n",
    " 'Capture Latitude',\n",
    " 'Capture Longitude',\n",
    " 'Release Date',\n",
    " 'Animal Status',\n",
    " 'Deployed',\n",
    " 'Collar Status Details',\n",
    " 'Deactivated?',\n",
    " 'Collar Retrieved?',\n",
    " 'Mortality Date',\n",
    " 'Malfunction Date',\n",
    " 'Malfunction Type',\n",
    " 'Retrieval Date',\n",
    " 'Mortality UTM Zone',\n",
    " 'Mortality UTM Easting',\n",
    " 'Mortality UTM Northing',\n",
    " 'Mortality Latitude',\n",
    " 'Mortality Longitude',\n",
    " 'Max Transmission Date',\n",
    " 'Previous Regional Comments',\n",
    " 'Mortality Review',\n",
    " 'Comments',\n",
    " 'CID']"
   ]
  },
  {
   "cell_type": "code",
   "execution_count": null,
   "id": "13993c2c-7da6-42cc-82c4-a7e111573073",
   "metadata": {},
   "outputs": [],
   "source": [
    "dfmetadata = pd.read_excel(metadata,sheet_name=metadatasheet, engine='openpyxl',usecols=fieldlist)"
   ]
  },
  {
   "cell_type": "code",
   "execution_count": null,
   "id": "b13d8b89-9e77-41b8-b96e-26848e473af7",
   "metadata": {},
   "outputs": [],
   "source": [
    "dfmetadata.head()"
   ]
  },
  {
   "cell_type": "markdown",
   "id": "7882ef80-f716-4383-bfc9-8c9b54f83b06",
   "metadata": {},
   "source": [
    "## Standardize Casylys form into BCTW values"
   ]
  },
  {
   "cell_type": "code",
   "execution_count": null,
   "id": "6754eed7-cf87-42fb-83a6-a308a8c3b29e",
   "metadata": {},
   "outputs": [],
   "source": [
    "standardfields =['Animal Status', 'Calf at Heel', 'Caribou Population Unit', 'Collar Make', 'Deployed', 'Collar Status Details', 'Collar Type', 'Life Stage', 'Malfunction Type','Region', 'Satellite Network', 'Sex', 'Species']"
   ]
  },
  {
   "cell_type": "markdown",
   "id": "35a45be0-62bc-4b8a-b3eb-85021a429a13",
   "metadata": {},
   "source": [
    "## Load Casylys cleaning table"
   ]
  },
  {
   "cell_type": "code",
   "execution_count": null,
   "id": "97e3cde2-156f-433a-8da3-b68b75b06a3f",
   "metadata": {},
   "outputs": [],
   "source": [
    "casylyscodes = r\"\\\\level\\s40006\\ESD\\EI\\Wildlife\\WSI\\Caribou_Program\\Projects\\BCTW\\dataloading_scripting\\bctw-migrate\\templates\\inputs\\casylyscodes.csv\""
   ]
  },
  {
   "cell_type": "code",
   "execution_count": null,
   "id": "eaaf041d-2c1c-4477-8877-3ce640dde79d",
   "metadata": {},
   "outputs": [],
   "source": [
    "dfcasylyscodes = pd.read_csv(casylyscodes,usecols=(\"DataField\",\"DataFieldDescription\",\"CodeforinDataField\",\"BCTWCode\",\"Coded\",\"CodeMeaning\"),index_col='DataField')\n",
    "dfcasylyscodes.fillna(' ',inplace=True)"
   ]
  },
  {
   "cell_type": "markdown",
   "id": "40df0ac7-8c83-42d9-b428-2e3cf89963e9",
   "metadata": {},
   "source": [
    "## Clean Casylys to BCTW Text"
   ]
  },
  {
   "cell_type": "code",
   "execution_count": null,
   "id": "21e1e5d5-04f3-4307-8d58-128e134e3864",
   "metadata": {},
   "outputs": [],
   "source": [
    "for i in standardfields:\n",
    "    x= dfmetadata[i]\n",
    "    print(x)\n",
    "    shortcodelist = dfcasylyscodes.loc[i]\n",
    "    mapdict = dict(zip(shortcodelist.CodeforinDataField, shortcodelist.BCTWCode))\n",
    "    print(mapdict)\n",
    "    dfmetadata[i] = dfmetadata[i].map(mapdict)\n",
    "    print(dfmetadata[i])\n",
    "    "
   ]
  },
  {
   "cell_type": "markdown",
   "id": "9eda0aee-1bc2-4626-9c74-76fd44e1b0da",
   "metadata": {},
   "source": [
    "## Cell below uses the the active codes to reclassify metadata tables, output is in the same format as input but with BCTW codes for applicable fields"
   ]
  },
  {
   "cell_type": "code",
   "execution_count": null,
   "id": "57e321e5-3771-4b2f-910c-4b5ad666d8c5",
   "metadata": {
    "scrolled": true,
    "tags": []
   },
   "outputs": [],
   "source": [
    "for i in dfcodelookup.index.values:\n",
    "    x = dfcodelookup['Casylys'][int(i)]\n",
    "    print((\"{} has been updated!\").format(x))\n",
    "    shortcodelist = finalcodetable.loc[int(i)]\n",
    "    mapdict= dict(zip(shortcodelist.code_description, shortcodelist.code_id))\n",
    "    dfmetadata[x] = dfmetadata[x].map(mapdict)\n",
    "\n",
    "    \n"
   ]
  },
  {
   "cell_type": "code",
   "execution_count": null,
   "id": "6b181d2a-8fdd-4ae8-a8c5-5bc9dc2ba018",
   "metadata": {
    "scrolled": true,
    "tags": []
   },
   "outputs": [],
   "source": [
    "dfmetadata"
   ]
  },
  {
   "cell_type": "markdown",
   "id": "6e2ae43b-429e-426c-a68d-9119a32d9e12",
   "metadata": {},
   "source": [
    "## Load BCTW output templates and prepare to have data migrated to them"
   ]
  },
  {
   "cell_type": "code",
   "execution_count": null,
   "id": "820307f6-f058-4ee3-9022-2922e3925bb9",
   "metadata": {},
   "outputs": [],
   "source": [
    "animal = r\"\\\\level\\s40006\\ESD\\EI\\Wildlife\\WSI\\Caribou_Program\\Projects\\BCTW\\dataloading_scripting\\bctw-migrate\\templates\\outputs\\BCTW_bulk_import_animal_template.csv\"\n",
    "device = r\"\\\\level\\s40006\\ESD\\EI\\Wildlife\\WSI\\Caribou_Program\\Projects\\BCTW\\dataloading_scripting\\bctw-migrate\\templates\\outputs\\BCTW_bulk_import_device_template.csv\""
   ]
  },
  {
   "cell_type": "code",
   "execution_count": null,
   "id": "27242642-3320-4cb8-acdf-d0246a2453f5",
   "metadata": {},
   "outputs": [],
   "source": [
    "dfanimal = pd.read_csv(animal)\n",
    "dfdevice = pd.read_csv(device)\n",
    "dffieldmap = pd.read_csv(codelookup)"
   ]
  },
  {
   "cell_type": "code",
   "execution_count": null,
   "id": "1cb0e96e-3c94-4d3c-807c-2e361984e810",
   "metadata": {},
   "outputs": [],
   "source": []
  },
  {
   "cell_type": "code",
   "execution_count": null,
   "id": "d313d143-244a-434a-a44d-1044e76247c8",
   "metadata": {},
   "outputs": [],
   "source": []
  }
 ],
 "metadata": {
  "kernelspec": {
   "display_name": "Python 3",
   "language": "python",
   "name": "python3"
  },
  "language_info": {
   "codemirror_mode": {
    "name": "ipython",
    "version": 3
   },
   "file_extension": ".py",
   "mimetype": "text/x-python",
   "name": "python",
   "nbconvert_exporter": "python",
   "pygments_lexer": "ipython3",
   "version": "3.6.13"
  }
 },
 "nbformat": 4,
 "nbformat_minor": 5
}
