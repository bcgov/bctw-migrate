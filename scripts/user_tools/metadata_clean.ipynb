{
 "cells": [
  {
   "cell_type": "markdown",
   "id": "619ed56e-0d52-4e77-ad28-867a3c9554a5",
   "metadata": {},
   "source": [
    "## Package Import"
   ]
  },
  {
   "cell_type": "code",
   "execution_count": null,
   "id": "e8a25246-6fa4-4ee6-bf42-f5ec49df592e",
   "metadata": {},
   "outputs": [],
   "source": [
    "import pandas as pd\n",
    "import openpyxl\n",
    "import os"
   ]
  },
  {
   "cell_type": "markdown",
   "id": "8ad9f472-8f23-429e-9383-29de100ea44a",
   "metadata": {},
   "source": [
    "## Set Pandas Display Options"
   ]
  },
  {
   "cell_type": "code",
   "execution_count": null,
   "id": "2e74a083-88ed-47ae-964e-781891fca687",
   "metadata": {},
   "outputs": [],
   "source": [
    "# enables showing both long and wide tables\n",
    "pd.set_option(\"display.max_rows\", None)\n",
    "pd.set_option(\"display.max_columns\", None)"
   ]
  },
  {
   "cell_type": "markdown",
   "id": "c2684ae1-32ce-4a2f-a161-9122b2d613ec",
   "metadata": {
    "tags": []
   },
   "source": [
    "## Data Inputs\n",
    "For now, CARIBOU only in the metadata sheeet. Codes have not been well defined for the other species. Further consultation needed for them."
   ]
  },
  {
   "cell_type": "code",
   "execution_count": null,
   "id": "dbf181e1-48de-4434-a59b-eca6ffb171c4",
   "metadata": {},
   "outputs": [],
   "source": [
    "# Paths to raw code tables, changing these tables will change how values are coded.\n",
    "# codetable is an export of the BCTW code table as csv\n",
    "codetable = r\"\\\\level\\s40006\\ESD\\EI\\Wildlife\\WSI\\Caribou_Program\\Projects\\BCTW\\dataloading_scripting\\bctw-migrate\\templates\\inputs\\code_table_20211021.csv\"\n",
    "\n",
    "# codeheader is an export of the BCTW code header table as csv\n",
    "codeheader = r\"\\\\level\\s40006\\ESD\\EI\\Wildlife\\WSI\\Caribou_Program\\Projects\\BCTW\\dataloading_scripting\\bctw-migrate\\templates\\inputs\\codeheader_table_20211021.csv\" \n",
    "\n",
    "# codelookup is a custom table that maps Casylys metadata to BCTW db fields, code headers, and what type of field it is for updating.\n",
    "codelookup = r\"\\\\level\\s40006\\ESD\\EI\\Wildlife\\WSI\\Caribou_Program\\Projects\\BCTW\\dataloading_scripting\\bctw-migrate\\templates\\inputs\\codefieldlookup.csv\""
   ]
  },
  {
   "cell_type": "code",
   "execution_count": null,
   "id": "7bc14fe8-f29f-434b-afc8-95bbbd7126d4",
   "metadata": {},
   "outputs": [],
   "source": [
    "# metadata is the raw Casylys sheet as xlsx\n",
    "metadata= r\"\\\\level\\s40006\\ESD\\EI\\Wildlife\\WSI\\Caribou_Program\\Projects\\BCTW\\dataloading_scripting\\test_data\\May_2021_Monthly_Collar_Summary.xlsx\"\n",
    "\n",
    "# metadatasheet defines the sheet in metadata where the data is stored\n",
    "metadatasheet = \"Master Summary May 2021\""
   ]
  },
  {
   "cell_type": "code",
   "execution_count": null,
   "id": "97e3cde2-156f-433a-8da3-b68b75b06a3f",
   "metadata": {},
   "outputs": [],
   "source": [
    "# casylyscodes translate Casylys values to BCTW plain text descriptions\n",
    "casylyscodes = r\"\\\\level\\s40006\\ESD\\EI\\Wildlife\\WSI\\Caribou_Program\\Projects\\BCTW\\dataloading_scripting\\bctw-migrate\\templates\\inputs\\casylyscodes.csv\""
   ]
  },
  {
   "cell_type": "code",
   "execution_count": null,
   "id": "820307f6-f058-4ee3-9022-2922e3925bb9",
   "metadata": {},
   "outputs": [],
   "source": [
    "# animal is a blank copy of the BCTW animal table\n",
    "animal = r\"\\\\level\\s40006\\ESD\\EI\\Wildlife\\WSI\\Caribou_Program\\Projects\\BCTW\\dataloading_scripting\\bctw-migrate\\templates\\outputs\\BCTW_bulk_import_animal_template.csv\"\n",
    "\n",
    "# device is a blank copy of the BCTW device table\n",
    "device = r\"\\\\level\\s40006\\ESD\\EI\\Wildlife\\WSI\\Caribou_Program\\Projects\\BCTW\\dataloading_scripting\\bctw-migrate\\templates\\outputs\\BCTW_bulk_import_device_template.csv\""
   ]
  },
  {
   "cell_type": "markdown",
   "id": "7c6b45f6-b7b9-46d3-b5d6-971f28010703",
   "metadata": {},
   "source": [
    "## Data Output Location"
   ]
  },
  {
   "cell_type": "code",
   "execution_count": null,
   "id": "a36b33c0-3015-4254-9165-c8d2a8cf68eb",
   "metadata": {},
   "outputs": [],
   "source": [
    "outputloc = r\"\\\\level\\s40006\\ESD\\EI\\Wildlife\\WSI\\Caribou_Program\\Projects\\BCTW\\dataloading_scripting\\bctw-migrate\\templates\\outputs\""
   ]
  },
  {
   "cell_type": "markdown",
   "id": "50be4c0c-0fe3-4c6c-9d88-b2d98d588f38",
   "metadata": {},
   "source": [
    "## Create Dataframes For Input Code Tables\n",
    "These are used to classify data later"
   ]
  },
  {
   "cell_type": "code",
   "execution_count": null,
   "id": "34259a01-dc66-4404-a63f-9b59527e49fd",
   "metadata": {},
   "outputs": [],
   "source": [
    "# dfcodetable and dfcodeheader filter out \"deleted\" data, will automatically drop inactive codes and headers, this logic delete on valid_to is used thruought BCTW\n",
    "# indexes have been set on all the dataframes to enable seamless joining later on, do not change index fields\n",
    "dfcodetable = pd.read_csv(codetable,index_col=\"code_header_id\")\n",
    "dfcodetable = dfcodetable[dfcodetable[\"valid_to\"].isnull()]\n",
    "\n",
    "dfcodeheader = pd.read_csv(codeheader,index_col=\"code_header_id\")\n",
    "dfcodeheader = dfcodeheader[dfcodeheader[\"valid_to\"].isnull()]\n",
    "\n",
    "dfcodelookup = pd.read_csv(codelookup,index_col='codeheader')"
   ]
  },
  {
   "cell_type": "markdown",
   "id": "da32895b-2d08-4d29-a8ca-1596762e885b",
   "metadata": {
    "tags": []
   },
   "source": [
    "## Build Active Code Table\n",
    "This table is built automatically by filtering out unused codes and code headers and then joining on the code map for which Casylys data goes to which db field."
   ]
  },
  {
   "cell_type": "code",
   "execution_count": null,
   "id": "02b12baf-bcc1-4a73-a7a3-dd164ed8bbce",
   "metadata": {},
   "outputs": [],
   "source": [
    "activecode = dfcodetable.join(dfcodeheader,on=\"code_header_id\", rsuffix=\"_header\",sort=True)\n",
    "activecode = activecode[[\"code_id\",\"code_name\",\"code_description\",\"code_header_name\"]]"
   ]
  },
  {
   "cell_type": "code",
   "execution_count": null,
   "id": "450d3a35-b9ab-4050-84c5-3218a9cc5649",
   "metadata": {},
   "outputs": [],
   "source": [
    "finalcodetable = activecode.join(dfcodelookup)\n",
    "finalcodetable = finalcodetable[finalcodetable[\"dbfield\"].notnull()]"
   ]
  },
  {
   "cell_type": "code",
   "execution_count": null,
   "id": "da3cd069-9a03-44fa-9dab-ba613726980c",
   "metadata": {},
   "outputs": [],
   "source": [
    "dfcodelookup= dfcodelookup[dfcodelookup.index.notnull()]"
   ]
  },
  {
   "cell_type": "markdown",
   "id": "caf4adab-9d94-4741-a7b9-4602eaf6b457",
   "metadata": {},
   "source": [
    "## Load Metadata sheet"
   ]
  },
  {
   "cell_type": "code",
   "execution_count": null,
   "id": "a01e9267-822e-49bf-beac-471628932aa3",
   "metadata": {
    "tags": []
   },
   "outputs": [],
   "source": [
    "# this fieldlist limits Casylys incoming data to the userful stuff\n",
    "fieldlist=['Region',\n",
    " 'Species',\n",
    " 'Caribou Population Unit',\n",
    " 'WLH ID',\n",
    " 'Animal ID',\n",
    " 'Sex',\n",
    " 'Life Stage',\n",
    " 'Calf at Heel',\n",
    " 'Ear Tag Right',\n",
    " 'Ear Tag Left',\n",
    " 'Device ID',\n",
    " 'Radio Frequency',\n",
    " 'Re-capture',\n",
    " 'Reg_Key',\n",
    " 'Trans-location',\n",
    " 'Collar Type',\n",
    " 'Collar Make',\n",
    " 'Collar Model',\n",
    " 'Satellite Network',\n",
    " 'Capture Date',\n",
    " 'Capture Date Year',\n",
    " 'Capture Date Month',\n",
    " 'Capture UTM Zone',\n",
    " 'Capture UTM Easting',\n",
    " 'Capture UTM Northing',\n",
    " 'Capture Latitude',\n",
    " 'Capture Longitude',\n",
    " 'Release Date',\n",
    " 'Animal Status',\n",
    " 'Deployed',\n",
    " 'Collar Status Details',\n",
    " 'Deactivated?',\n",
    " 'Collar Retrieved?',\n",
    " 'Mortality Date',\n",
    " 'Malfunction Date',\n",
    " 'Malfunction Type',\n",
    " 'Retrieval Date',\n",
    " 'Mortality UTM Zone',\n",
    " 'Mortality UTM Easting',\n",
    " 'Mortality UTM Northing',\n",
    " 'Mortality Latitude',\n",
    " 'Mortality Longitude',\n",
    " 'Max Transmission Date',\n",
    " 'Previous Regional Comments',\n",
    " 'Mortality Review',\n",
    " 'Comments',\n",
    " 'CID']"
   ]
  },
  {
   "cell_type": "code",
   "execution_count": null,
   "id": "13993c2c-7da6-42cc-82c4-a7e111573073",
   "metadata": {},
   "outputs": [],
   "source": [
    "# pass Caslys datasheet into a dataframe\n",
    "dfmetadata = pd.read_excel(metadata,sheet_name=metadatasheet, engine='openpyxl',usecols=fieldlist)"
   ]
  },
  {
   "cell_type": "markdown",
   "id": "7882ef80-f716-4383-bfc9-8c9b54f83b06",
   "metadata": {},
   "source": [
    "## Standardize Casylys form into BCTW values"
   ]
  },
  {
   "cell_type": "code",
   "execution_count": null,
   "id": "6754eed7-cf87-42fb-83a6-a308a8c3b29e",
   "metadata": {},
   "outputs": [],
   "source": [
    "# these fields have been identified as needing their values changed to BCTW coded values, if needing to reclass another field, add to this list \n",
    "# and make sure the code_header field in codelookup has been added\n",
    "standardfields =['Animal Status', 'Calf at Heel', 'Caribou Population Unit', 'Collar Make', 'Deployed', 'Collar Status Details', 'Collar Type', 'Life Stage', 'Malfunction Type','Region', 'Satellite Network', 'Sex', 'Species']"
   ]
  },
  {
   "cell_type": "markdown",
   "id": "35a45be0-62bc-4b8a-b3eb-85021a429a13",
   "metadata": {},
   "source": [
    "## Load Casylys cleaning table"
   ]
  },
  {
   "cell_type": "code",
   "execution_count": null,
   "id": "eaaf041d-2c1c-4477-8877-3ce640dde79d",
   "metadata": {},
   "outputs": [],
   "source": [
    "# dfcasylyscodes contains a mapping how to chang Casylys raw data into BCTW code descriptions\n",
    "dfcasylyscodes = pd.read_csv(casylyscodes,usecols=(\"DataField\",\"DataFieldDescription\",\"CodeforinDataField\",\"BCTWCode\",\"Coded\",\"CodeMeaning\"),index_col='DataField')\n",
    "dfcasylyscodes.fillna(' ',inplace=True)"
   ]
  },
  {
   "cell_type": "markdown",
   "id": "40df0ac7-8c83-42d9-b428-2e3cf89963e9",
   "metadata": {},
   "source": [
    "## Clean Casylys to BCTW Text"
   ]
  },
  {
   "cell_type": "code",
   "execution_count": null,
   "id": "21e1e5d5-04f3-4307-8d58-128e134e3864",
   "metadata": {
    "scrolled": true,
    "tags": []
   },
   "outputs": [],
   "source": [
    "# using field list above, select that column and using the dfcasylyscodes build a dictionary, pd.map will overwrite field with the correct values\n",
    "for i in standardfields:\n",
    "    x= dfmetadata[i]\n",
    "    shortcodelist = dfcasylyscodes.loc[i]\n",
    "    mapdict = dict(zip(shortcodelist.CodeforinDataField, shortcodelist.BCTWCode))\n",
    "    dfmetadata[i] = dfmetadata[i].map(mapdict)\n",
    "\n",
    "    "
   ]
  },
  {
   "cell_type": "markdown",
   "id": "9eda0aee-1bc2-4626-9c74-76fd44e1b0da",
   "metadata": {},
   "source": [
    "## Cell below uses the the active codes to reclassify metadata tables, output is in the same format as input but with BCTW codes for applicable fields"
   ]
  },
  {
   "cell_type": "code",
   "execution_count": null,
   "id": "57e321e5-3771-4b2f-910c-4b5ad666d8c5",
   "metadata": {
    "scrolled": true,
    "tags": []
   },
   "outputs": [],
   "source": [
    "# this code converts the BCTW description value from step above into the BCTW code value, output will be fields filled with integers\n",
    "for i in dfcodelookup.index.values:\n",
    "    x = dfcodelookup['Casylys'][int(i)]\n",
    "    print((\"{} has been updated!\").format(x))\n",
    "    shortcodelist = finalcodetable.loc[int(i)]\n",
    "    mapdict= dict(zip(shortcodelist.code_description, shortcodelist.code_id))\n",
    "    dfmetadata[x] = dfmetadata[x].map(mapdict)"
   ]
  },
  {
   "cell_type": "markdown",
   "id": "7ce7ffb0-896c-45ee-b23e-6e9cd1365bfb",
   "metadata": {},
   "source": [
    "## Convert all boolean fields from y/n to true/false"
   ]
  },
  {
   "cell_type": "code",
   "execution_count": null,
   "id": "a4ab924a-2ca7-42f6-95bc-37b0c180d1d2",
   "metadata": {},
   "outputs": [],
   "source": [
    "# loads codelookup into a new dataframe to identify the boolean fields\n",
    "dfboollookupfields = pd.read_csv(codelookup,index_col=\"type\")\n",
    "dfboollookupfields = dfboollookupfields.loc['bool']"
   ]
  },
  {
   "cell_type": "code",
   "execution_count": null,
   "id": "6239d2fc-bae9-49e8-b793-d9ac2adb5aa5",
   "metadata": {},
   "outputs": [],
   "source": [
    "# boolean field dictionary, null will be left as null\n",
    "booldict = {'Y':'True','N':'False'}"
   ]
  },
  {
   "cell_type": "code",
   "execution_count": null,
   "id": "4d92cfee-b88c-4cba-9461-e82ace586622",
   "metadata": {},
   "outputs": [],
   "source": [
    "# apply the dictionary to the boolean fields, output should be either True or False, replaces all Y and N values\n",
    "for f in dfboollookupfields['Casylys']:\n",
    "    dfmetadata[f] = dfmetadata[f].map(booldict)\n",
    "    "
   ]
  },
  {
   "cell_type": "markdown",
   "id": "6e2ae43b-429e-426c-a68d-9119a32d9e12",
   "metadata": {},
   "source": [
    "## Load BCTW output templates and prepare to have data migrated to them"
   ]
  },
  {
   "cell_type": "markdown",
   "id": "d1af50c2-8430-4797-86aa-54805f2e6c1f",
   "metadata": {},
   "source": [
    "### Change metadata field names to bctw"
   ]
  },
  {
   "cell_type": "code",
   "execution_count": null,
   "id": "79dd43a2-4c54-47d6-a60b-3f5a91f8f1d9",
   "metadata": {},
   "outputs": [],
   "source": [
    "# load codelookup again to build a dictionary of Casylys to BCTW field names\n",
    "dfcodelookupfields = pd.read_csv(codelookup)\n",
    "dfcodelookupfields = dfcodelookupfields[dfcodelookupfields['dbfield'].notnull()]"
   ]
  },
  {
   "cell_type": "code",
   "execution_count": null,
   "id": "bef4398e-eba8-49fe-b276-23e46e79a160",
   "metadata": {},
   "outputs": [],
   "source": [
    "# builds field map dictionary\n",
    "fielddict = dict(zip(dfcodelookupfields.Casylys,dfcodelookupfields.dbfield))"
   ]
  },
  {
   "cell_type": "code",
   "execution_count": null,
   "id": "9f8c6d66-9eb9-43ad-bf20-656c5c21d3bf",
   "metadata": {
    "scrolled": true,
    "tags": []
   },
   "outputs": [],
   "source": [
    "# renames all fields in the above dictionary\n",
    "dfmetadata=dfmetadata.rename(columns=(fielddict))"
   ]
  },
  {
   "cell_type": "markdown",
   "id": "26540c4d-351c-47c1-b7bd-795d2eb27c79",
   "metadata": {},
   "source": [
    "## Load blank csv templates and put matching fields into them and export as csv"
   ]
  },
  {
   "cell_type": "code",
   "execution_count": null,
   "id": "27242642-3320-4cb8-acdf-d0246a2453f5",
   "metadata": {},
   "outputs": [],
   "source": [
    "# blank csv used to format the output of the dataframes, this template was downloaded from BCTW data import wizard\n",
    "dfanimal = pd.read_csv(animal)\n",
    "dfdevice = pd.read_csv(device)"
   ]
  },
  {
   "cell_type": "code",
   "execution_count": null,
   "id": "1cb0e96e-3c94-4d3c-807c-2e361984e810",
   "metadata": {
    "scrolled": true,
    "tags": []
   },
   "outputs": [],
   "source": [
    "# load blank templates into df\n",
    "dfdeviceout = pd.concat([dfdevice, dfmetadata],join='inner')\n",
    "dfanimalout = pd.concat([dfanimal, dfmetadata],join='inner')"
   ]
  },
  {
   "cell_type": "code",
   "execution_count": null,
   "id": "29e1b06b-67b7-4b47-8bfb-17785ef3b4eb",
   "metadata": {},
   "outputs": [],
   "source": [
    "# concatenate animal fields into template, only fields that exist in the output will be copied\n",
    "a_output = os.path.join(outputloc, 'dfanimal.csv')\n",
    "dfanimalout.to_csv(a_output,index=False)"
   ]
  },
  {
   "cell_type": "code",
   "execution_count": null,
   "id": "9c04a594-fefa-4fc1-89c8-76c5aaaf5b10",
   "metadata": {
    "scrolled": true,
    "tags": []
   },
   "outputs": [],
   "source": [
    "# concatenate device fields into template, only fields that exist in the output will be copied\n",
    "d_output = os.path.join(outputloc, 'dfdevice.csv')\n",
    "dfdeviceout.to_csv(d_output,index=False)"
   ]
  },
  {
   "cell_type": "code",
   "execution_count": null,
   "id": "a58d64eb-efc3-43d8-bd10-a2ae77b307e4",
   "metadata": {},
   "outputs": [],
   "source": []
  }
 ],
 "metadata": {
  "kernelspec": {
   "display_name": "Python 3",
   "language": "python",
   "name": "python3"
  },
  "language_info": {
   "codemirror_mode": {
    "name": "ipython",
    "version": 3
   },
   "file_extension": ".py",
   "mimetype": "text/x-python",
   "name": "python",
   "nbconvert_exporter": "python",
   "pygments_lexer": "ipython3",
   "version": "3.6.13"
  }
 },
 "nbformat": 4,
 "nbformat_minor": 5
}
