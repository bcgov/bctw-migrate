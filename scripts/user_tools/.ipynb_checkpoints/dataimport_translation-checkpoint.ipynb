{
 "cells": [
  {
   "cell_type": "markdown",
   "id": "619ed56e-0d52-4e77-ad28-867a3c9554a5",
   "metadata": {},
   "source": [
    "## Package Import"
   ]
  },
  {
   "cell_type": "code",
   "execution_count": 1,
   "id": "e8a25246-6fa4-4ee6-bf42-f5ec49df592e",
   "metadata": {},
   "outputs": [],
   "source": [
    "import pandas as pd\n",
    "import openpyxl\n",
    "import os\n",
    "import numpy as np"
   ]
  },
  {
   "cell_type": "markdown",
   "id": "8ad9f472-8f23-429e-9383-29de100ea44a",
   "metadata": {},
   "source": [
    "## Set Pandas Display Options"
   ]
  },
  {
   "cell_type": "code",
   "execution_count": 2,
   "id": "2e74a083-88ed-47ae-964e-781891fca687",
   "metadata": {},
   "outputs": [],
   "source": [
    "# enables showing both long and wide tables\n",
    "pd.set_option(\"display.max_rows\", None)\n",
    "pd.set_option(\"display.max_columns\", None)"
   ]
  },
  {
   "cell_type": "markdown",
   "id": "9b089785-a73e-427f-ad4c-709638673fa7",
   "metadata": {},
   "source": [
    "## Create function to truncate comment field length"
   ]
  },
  {
   "cell_type": "code",
   "execution_count": 3,
   "id": "57f4c296-c965-4ddd-ac8d-b625e19f9f93",
   "metadata": {},
   "outputs": [],
   "source": [
    "def auto_truncate(val):\n",
    "    return val[:200]"
   ]
  },
  {
   "cell_type": "markdown",
   "id": "c2684ae1-32ce-4a2f-a161-9122b2d613ec",
   "metadata": {
    "tags": []
   },
   "source": [
    "## Data Inputs\n",
    "For now, CARIBOU only in the input sheets. Codes have not been well defined for the other species. Further consultation needed for them."
   ]
  },
  {
   "cell_type": "code",
   "execution_count": 4,
   "id": "dbf181e1-48de-4434-a59b-eca6ffb171c4",
   "metadata": {},
   "outputs": [],
   "source": [
    "# Paths to raw code tables, changing these tables will change how values are coded.\n",
    "# codetable is an export of the BCTW code table as csv\n",
    "codetable = r\"\\\\sfp.idir.bcgov\\s140\\s40006\\ESD\\EI\\Wildlife\\WSI\\Caribou_Program\\Projects\\BCTW\\dataloading_scripting\\bctw-migrate\\templates\\inputs\\incoming_template_tables\\code_202204200956.csv\"\n",
    "\n",
    "# codeheader is an export of the BCTW code header table as csv\n",
    "codeheader = r\"\\\\sfp.idir.bcgov\\s140\\s40006\\ESD\\EI\\Wildlife\\WSI\\Caribou_Program\\Projects\\BCTW\\dataloading_scripting\\bctw-migrate\\templates\\inputs\\incoming_template_tables\\code_header_202204200958.csv\" \n",
    "\n",
    "# codelookup is a custom table that maps Casylys metadata to BCTW db fields, code headers, and what type of field it is for updating.\n",
    "codelookup = r\"\\\\sfp.idir.bcgov\\s140\\s40006\\ESD\\EI\\Wildlife\\WSI\\Caribou_Program\\Projects\\BCTW\\dataloading_scripting\\bctw-migrate\\templates\\inputs\\incoming_template_tables\\codefieldlookup.csv\""
   ]
  },
  {
   "cell_type": "code",
   "execution_count": 5,
   "id": "d8ea628f-6f0e-42dc-954c-afe56f01343d",
   "metadata": {},
   "outputs": [],
   "source": [
    "# define incoming templates, require the device AND the animal\n",
    "critter_in = r\"\\\\sfp.idir.bcgov\\s140\\s40006\\ESD\\EI\\Wildlife\\WSI\\Caribou_Program\\Projects\\BCTW\\dataloading_scripting\\test_data\\BCTW_Telemetry_Template_20211209-R6.xlsx\"\n",
    "critter_in_sheet = \"BCTW_Critter_Template\"\n",
    "\n",
    "device_in = r\"\\\\sfp.idir.bcgov\\s140\\s40006\\ESD\\EI\\Wildlife\\WSI\\Caribou_Program\\Projects\\BCTW\\dataloading_scripting\\test_data\\BCTW_Device_Template_20220329R--R6.xlsx\"\n",
    "device_in_sheet = \"BCTW_Device_Template\""
   ]
  },
  {
   "cell_type": "code",
   "execution_count": 6,
   "id": "820307f6-f058-4ee3-9022-2922e3925bb9",
   "metadata": {},
   "outputs": [],
   "source": [
    "# animal is a blank copy of the BCTW animal table\n",
    "animal = r\"\\\\sfp.idir.bcgov\\s140\\s40006\\ESD\\EI\\Wildlife\\WSI\\Caribou_Program\\Projects\\BCTW\\dataloading_scripting\\bctw-migrate\\templates\\outputs\\BCTW_bulk_import_animal_template.csv\"\n",
    "\n",
    "# device is a blank copy of the BCTW device table\n",
    "device = r\"\\\\sfp.idir.bcgov\\s140\\s40006\\ESD\\EI\\Wildlife\\WSI\\Caribou_Program\\Projects\\BCTW\\dataloading_scripting\\bctw-migrate\\templates\\outputs\\BCTW_bulk_import_device_template.csv\""
   ]
  },
  {
   "cell_type": "markdown",
   "id": "7c6b45f6-b7b9-46d3-b5d6-971f28010703",
   "metadata": {},
   "source": [
    "## Data Output Location"
   ]
  },
  {
   "cell_type": "code",
   "execution_count": 7,
   "id": "a36b33c0-3015-4254-9165-c8d2a8cf68eb",
   "metadata": {},
   "outputs": [],
   "source": [
    "outputloc = r\"\\\\level\\s40006\\ESD\\EI\\Wildlife\\WSI\\Caribou_Program\\Projects\\BCTW\\dataloading_scripting\\loading_tables\""
   ]
  },
  {
   "cell_type": "markdown",
   "id": "50be4c0c-0fe3-4c6c-9d88-b2d98d588f38",
   "metadata": {},
   "source": [
    "## Create Dataframes For Input Code Tables\n",
    "These are used to classify data later"
   ]
  },
  {
   "cell_type": "code",
   "execution_count": 8,
   "id": "34259a01-dc66-4404-a63f-9b59527e49fd",
   "metadata": {},
   "outputs": [],
   "source": [
    "# dfcodetable and dfcodeheader filter out \"deleted\" data, will automatically drop inactive codes and headers, this logic delete on valid_to is used thruought BCTW\n",
    "# indexes have been set on all the dataframes to enable seamless joining later on, do not change index fields\n",
    "dfcodetable = pd.read_csv(codetable,index_col=\"code_header_id\")\n",
    "dfcodetable = dfcodetable[dfcodetable[\"valid_to\"].isnull()]\n",
    "\n",
    "dfcodeheader = pd.read_csv(codeheader,index_col=\"code_header_id\")\n",
    "dfcodeheader = dfcodeheader[dfcodeheader[\"valid_to\"].isnull()]\n",
    "\n",
    "dfcodelookup = pd.read_csv(codelookup,index_col='codeheader')"
   ]
  },
  {
   "cell_type": "markdown",
   "id": "da32895b-2d08-4d29-a8ca-1596762e885b",
   "metadata": {
    "tags": []
   },
   "source": [
    "## Build Active Code Table\n",
    "This table is built automatically by filtering out unused codes and code headers and then joining on the code map for which Casylys data goes to which db field."
   ]
  },
  {
   "cell_type": "code",
   "execution_count": 9,
   "id": "02b12baf-bcc1-4a73-a7a3-dd164ed8bbce",
   "metadata": {},
   "outputs": [],
   "source": [
    "activecode = dfcodetable.join(dfcodeheader,on=\"code_header_id\", rsuffix=\"_header\",sort=True)\n",
    "activecode = activecode[[\"code_id\",\"code_name\",\"code_description\",\"code_header_name\"]]"
   ]
  },
  {
   "cell_type": "code",
   "execution_count": 10,
   "id": "450d3a35-b9ab-4050-84c5-3218a9cc5649",
   "metadata": {},
   "outputs": [],
   "source": [
    "finalcodetable = activecode.join(dfcodelookup)\n",
    "finalcodetable = finalcodetable[finalcodetable[\"dbfield\"].notnull()]"
   ]
  },
  {
   "cell_type": "code",
   "execution_count": 11,
   "id": "da3cd069-9a03-44fa-9dab-ba613726980c",
   "metadata": {},
   "outputs": [],
   "source": [
    "dfcodelookup= dfcodelookup[dfcodelookup.index.notnull()]"
   ]
  },
  {
   "cell_type": "code",
   "execution_count": 12,
   "id": "cf99f2b8-5cf7-47cc-aeca-933a343cb517",
   "metadata": {},
   "outputs": [
    {
     "data": {
      "text/html": [
       "<div>\n",
       "<style scoped>\n",
       "    .dataframe tbody tr th:only-of-type {\n",
       "        vertical-align: middle;\n",
       "    }\n",
       "\n",
       "    .dataframe tbody tr th {\n",
       "        vertical-align: top;\n",
       "    }\n",
       "\n",
       "    .dataframe thead th {\n",
       "        text-align: right;\n",
       "    }\n",
       "</style>\n",
       "<table border=\"1\" class=\"dataframe\">\n",
       "  <thead>\n",
       "    <tr style=\"text-align: right;\">\n",
       "      <th></th>\n",
       "      <th>Casylys</th>\n",
       "      <th>dbtable</th>\n",
       "      <th>dbfield</th>\n",
       "      <th>type</th>\n",
       "    </tr>\n",
       "    <tr>\n",
       "      <th>codeheader</th>\n",
       "      <th></th>\n",
       "      <th></th>\n",
       "      <th></th>\n",
       "      <th></th>\n",
       "    </tr>\n",
       "  </thead>\n",
       "  <tbody>\n",
       "    <tr>\n",
       "      <th>1.0</th>\n",
       "      <td>Region</td>\n",
       "      <td>animal</td>\n",
       "      <td>region</td>\n",
       "      <td>code</td>\n",
       "    </tr>\n",
       "    <tr>\n",
       "      <th>139.0</th>\n",
       "      <td>Caribou Population Unit</td>\n",
       "      <td>animal</td>\n",
       "      <td>population_unit</td>\n",
       "      <td>code</td>\n",
       "    </tr>\n",
       "    <tr>\n",
       "      <th>181.0</th>\n",
       "      <td>Sex</td>\n",
       "      <td>animal</td>\n",
       "      <td>sex</td>\n",
       "      <td>code</td>\n",
       "    </tr>\n",
       "    <tr>\n",
       "      <th>179.0</th>\n",
       "      <td>Life Stage</td>\n",
       "      <td>animal</td>\n",
       "      <td>life_stage</td>\n",
       "      <td>code</td>\n",
       "    </tr>\n",
       "    <tr>\n",
       "      <th>177.0</th>\n",
       "      <td>Calf at Heel</td>\n",
       "      <td>animal</td>\n",
       "      <td>juvenile_at_heel</td>\n",
       "      <td>code</td>\n",
       "    </tr>\n",
       "    <tr>\n",
       "      <th>147.0</th>\n",
       "      <td>Collar Type</td>\n",
       "      <td>collar</td>\n",
       "      <td>device_type</td>\n",
       "      <td>code</td>\n",
       "    </tr>\n",
       "    <tr>\n",
       "      <th>4.0</th>\n",
       "      <td>Collar Make</td>\n",
       "      <td>collar</td>\n",
       "      <td>device_make</td>\n",
       "      <td>code</td>\n",
       "    </tr>\n",
       "    <tr>\n",
       "      <th>145.0</th>\n",
       "      <td>Satellite Network</td>\n",
       "      <td>collar</td>\n",
       "      <td>satellite_network</td>\n",
       "      <td>code</td>\n",
       "    </tr>\n",
       "    <tr>\n",
       "      <th>3.0</th>\n",
       "      <td>Animal Status</td>\n",
       "      <td>animal</td>\n",
       "      <td>animal_status</td>\n",
       "      <td>code</td>\n",
       "    </tr>\n",
       "    <tr>\n",
       "      <th>178.0</th>\n",
       "      <td>Deployed</td>\n",
       "      <td>collar</td>\n",
       "      <td>device_deployment_status</td>\n",
       "      <td>code</td>\n",
       "    </tr>\n",
       "    <tr>\n",
       "      <th>144.0</th>\n",
       "      <td>Collar Status Details</td>\n",
       "      <td>collar</td>\n",
       "      <td>device_status</td>\n",
       "      <td>code</td>\n",
       "    </tr>\n",
       "    <tr>\n",
       "      <th>180.0</th>\n",
       "      <td>Malfunction Type</td>\n",
       "      <td>collar</td>\n",
       "      <td>device_malfunction_type</td>\n",
       "      <td>code</td>\n",
       "    </tr>\n",
       "  </tbody>\n",
       "</table>\n",
       "</div>"
      ],
      "text/plain": [
       "                            Casylys dbtable                   dbfield  type\n",
       "codeheader                                                                 \n",
       "1.0                          Region  animal                    region  code\n",
       "139.0       Caribou Population Unit  animal           population_unit  code\n",
       "181.0                           Sex  animal                       sex  code\n",
       "179.0                    Life Stage  animal                life_stage  code\n",
       "177.0                  Calf at Heel  animal          juvenile_at_heel  code\n",
       "147.0                   Collar Type  collar               device_type  code\n",
       "4.0                     Collar Make  collar               device_make  code\n",
       "145.0             Satellite Network  collar         satellite_network  code\n",
       "3.0                   Animal Status  animal             animal_status  code\n",
       "178.0                      Deployed  collar  device_deployment_status  code\n",
       "144.0         Collar Status Details  collar             device_status  code\n",
       "180.0              Malfunction Type  collar   device_malfunction_type  code"
      ]
     },
     "execution_count": 12,
     "metadata": {},
     "output_type": "execute_result"
    }
   ],
   "source": [
    "dfcodelookup"
   ]
  },
  {
   "cell_type": "markdown",
   "id": "caf4adab-9d94-4741-a7b9-4602eaf6b457",
   "metadata": {},
   "source": [
    "## Load Metadata sheet"
   ]
  },
  {
   "cell_type": "code",
   "execution_count": 13,
   "id": "a01e9267-822e-49bf-beac-471628932aa3",
   "metadata": {
    "tags": []
   },
   "outputs": [],
   "source": [
    "# this fieldlist limits Casylys incoming data to the userful stuff\n",
    "critter_fieldlist=['Region',\n",
    "'Regional Contact',\n",
    "'Regional Review',\n",
    "'Regional Contact Comments',\n",
    "'Project',\n",
    "'Species',\n",
    "'Caribou Ecotype',\n",
    "'Caribou Population Unit',\n",
    "'WLH ID',\n",
    "'Animal ID',\n",
    "'Sex',\n",
    "'Life Stage',\n",
    "'Calf at Heel',\n",
    "'Ear Tag Right',\n",
    "'Ear Tag Left',\n",
    "'Device ID',\n",
    "'Re-capture',\n",
    "'Reg_Key',\n",
    "'Trans-location',\n",
    "'Collar Make',\n",
    "'Capture Date',\n",
    "'Capture Date Year',\n",
    "'Capture Date Month',\n",
    "'Capture UTM Zone',\n",
    "'Capture UTM Easting',\n",
    "'Capture UTM Northing',\n",
    "'Capture Latitude',\n",
    "'Capture Longitude',\n",
    "'Release Date',\n",
    "'Animal Status',\n",
    "'Deployed',\n",
    "'Collar Status Details',\n",
    "'Deactivated?',\n",
    "'Collar Retrieved?',\n",
    "'Mortality Date',\n",
    "'Malfunction Date',\n",
    "'Malfunction Type',\n",
    "'Retrieval Date',\n",
    "'Mortality UTM Zone',\n",
    "'Mortality UTM Easting',\n",
    "'Mortality UTM Northing',\n",
    "'Mortality Latitude',\n",
    "'Mortality Longitude',\n",
    "'Max Transmission Date',\n",
    "'Previous Regional Comments',\n",
    "'Mortality Review',\n",
    "'Comments'\n",
    "]"
   ]
  },
  {
   "cell_type": "code",
   "execution_count": 14,
   "id": "cf4bfbb5-2063-4294-b931-c162b41441e4",
   "metadata": {},
   "outputs": [],
   "source": [
    "# device field list\n",
    "device_fieldlist = ['device_make',\n",
    "'device_model',\n",
    "'device_id',\n",
    "'device_deployment_status',\n",
    "'device_status',\n",
    "'device_condition',\n",
    "'device_type',\n",
    "'frequency',\n",
    "'frequency_unit',\n",
    "'satellite_network',\n",
    "'first_activation_month',\n",
    "'first_activation_year',\n",
    "'fix_interval',\n",
    "'fix_interval_rate',\n",
    "'activation_comment',\n",
    "'activation_status',\n",
    "'camera_device_id',\n",
    "'dropoff_device_id',\n",
    "'dropoff_frequency',\n",
    "'dropoff_frequency_unit',\n",
    "'malfunction_comment',\n",
    "'malfunction_date',\n",
    "'device_malfunction_type',\n",
    "'offline_date',\n",
    "'offline_type',\n",
    "'offline_comment',\n",
    "'retrieval_date',\n",
    "'retrieved',\n",
    "'retrieval_comment',\n",
    "'device_comment'\n",
    "]"
   ]
  },
  {
   "cell_type": "code",
   "execution_count": 25,
   "id": "13993c2c-7da6-42cc-82c4-a7e111573073",
   "metadata": {},
   "outputs": [
    {
     "name": "stderr",
     "output_type": "stream",
     "text": [
      "C:\\Users\\Bauger\\Anaconda3\\envs\\bctw\\lib\\site-packages\\openpyxl\\worksheet\\_reader.py:312: UserWarning: Data Validation extension is not supported and will be removed\n",
      "  warn(msg)\n"
     ]
    }
   ],
   "source": [
    "# pass incoming into a dataframe\n",
    "dfcritter_in = pd.read_excel(critter_in,sheet_name=critter_in_sheet, engine='openpyxl',usecols=critter_fieldlist, converters = {'Comments': auto_truncate, 'Mortality Review': auto_truncate})\n",
    "#dfdevice_in = pd.read_excel(device_in, sheet_name=device_in_sheet, engine='openpyxl',usecols=device_fieldlist, converters = {'Comments': auto_truncate})"
   ]
  },
  {
   "cell_type": "markdown",
   "id": "a28b1396-80a2-4d9a-9270-4dccec5bd2c4",
   "metadata": {
    "tags": []
   },
   "source": [
    "## Cell below uses the the active codes to reclassify metadata tables, output is in the same format as input but with BCTW codes for applicable fields"
   ]
  },
  {
   "cell_type": "code",
   "execution_count": 22,
   "id": "4547de09-f3d0-438e-9fdc-9c7d24481129",
   "metadata": {
    "tags": []
   },
   "outputs": [
    {
     "name": "stdout",
     "output_type": "stream",
     "text": [
      "Region has been updated!\n",
      "Caribou Population Unit has been updated!\n",
      "Sex has been updated!\n",
      "Life Stage has been updated!\n",
      "Calf at Heel has been updated!\n",
      "Collar Type not in table!\n",
      "Collar Make has been updated!\n",
      "Satellite Network not in table!\n",
      "Animal Status has been updated!\n",
      "Deployed has been updated!\n",
      "Collar Status Details has been updated!\n",
      "Malfunction Type has been updated!\n"
     ]
    }
   ],
   "source": [
    "# this code converts the BCTW description value from step above into the BCTW code value, output will be fields filled with integers\n",
    "for i in dfcodelookup.index.values:\n",
    "    x = dfcodelookup['Casylys'][int(i)]\n",
    "    shortcodelist = finalcodetable.loc[int(i)]\n",
    "    mapdict= dict(zip(shortcodelist.code_description, shortcodelist.code_id))\n",
    "    if x in dfcritter_in.columns:\n",
    "        dfcritter_in[x] = dfcritter_in[x].map(mapdict)\n",
    "        print((\"{} has been updated!\").format(x))\n",
    "    else:\n",
    "        print((\"{} not in table!\").format(x))"
   ]
  },
  {
   "cell_type": "markdown",
   "id": "7ce7ffb0-896c-45ee-b23e-6e9cd1365bfb",
   "metadata": {},
   "source": [
    "## Convert all boolean fields from y/n to true/false"
   ]
  },
  {
   "cell_type": "code",
   "execution_count": null,
   "id": "a4ab924a-2ca7-42f6-95bc-37b0c180d1d2",
   "metadata": {},
   "outputs": [],
   "source": [
    "# loads codelookup into a new dataframe to identify the boolean fields\n",
    "dfboollookupfields = pd.read_csv(codelookup,index_col=\"type\")\n",
    "dfboollookupfields = dfboollookupfields.loc['bool']"
   ]
  },
  {
   "cell_type": "code",
   "execution_count": null,
   "id": "6239d2fc-bae9-49e8-b793-d9ac2adb5aa5",
   "metadata": {},
   "outputs": [],
   "source": [
    "# boolean field dictionary, null will be left as null\n",
    "booldict = {'Y':'True','N':'False'}"
   ]
  },
  {
   "cell_type": "code",
   "execution_count": null,
   "id": "4d92cfee-b88c-4cba-9461-e82ace586622",
   "metadata": {},
   "outputs": [],
   "source": [
    "# apply the dictionary to the boolean fields, output should be either True or False, replaces all Y and N values\n",
    "for f in dfboollookupfields['Casylys']:\n",
    "    dfcritter_in[f] = dfcritter_in[f].map(booldict)\n",
    "    "
   ]
  },
  {
   "cell_type": "code",
   "execution_count": null,
   "id": "d45fa187-a719-4427-97df-85e84579704a",
   "metadata": {},
   "outputs": [],
   "source": [
    "dfcritter_in"
   ]
  },
  {
   "cell_type": "markdown",
   "id": "6e2ae43b-429e-426c-a68d-9119a32d9e12",
   "metadata": {},
   "source": [
    "## Load BCTW output templates and prepare to have data migrated to them"
   ]
  },
  {
   "cell_type": "markdown",
   "id": "d1af50c2-8430-4797-86aa-54805f2e6c1f",
   "metadata": {},
   "source": [
    "### Change metadata field names to bctw"
   ]
  },
  {
   "cell_type": "code",
   "execution_count": null,
   "id": "79dd43a2-4c54-47d6-a60b-3f5a91f8f1d9",
   "metadata": {},
   "outputs": [],
   "source": [
    "# load codelookup again to build a dictionary of Casylys to BCTW field names\n",
    "dfcodelookupfields = pd.read_csv(codelookup)\n",
    "dfcodelookupfields = dfcodelookupfields[dfcodelookupfields['dbfield'].notnull()]"
   ]
  },
  {
   "cell_type": "code",
   "execution_count": null,
   "id": "bef4398e-eba8-49fe-b276-23e46e79a160",
   "metadata": {},
   "outputs": [],
   "source": [
    "# builds field map dictionary\n",
    "fielddict = dict(zip(dfcodelookupfields.Casylys,dfcodelookupfields.dbfield))"
   ]
  },
  {
   "cell_type": "code",
   "execution_count": null,
   "id": "9f8c6d66-9eb9-43ad-bf20-656c5c21d3bf",
   "metadata": {
    "scrolled": true,
    "tags": []
   },
   "outputs": [],
   "source": [
    "# renames all fields in the above dictionary\n",
    "dfmetadata=dfmetadata.rename(columns=(fielddict))"
   ]
  },
  {
   "cell_type": "code",
   "execution_count": null,
   "id": "c713c771-dfad-4dd9-84bf-69d0ad1c5d2c",
   "metadata": {
    "scrolled": true,
    "tags": []
   },
   "outputs": [],
   "source": [
    "dfmetadata"
   ]
  },
  {
   "cell_type": "markdown",
   "id": "6b28ade7-b5e6-4867-a4c2-ecb4a7021e76",
   "metadata": {},
   "source": [
    "## Remove spaces and special characters from ear tag ID fields to get them under 20 characters"
   ]
  },
  {
   "cell_type": "code",
   "execution_count": null,
   "id": "86b59e3c-bb61-4b76-9247-204c7868a1a2",
   "metadata": {},
   "outputs": [],
   "source": [
    "dfmetadata['ear_tag_right_id'] = dfmetadata['ear_tag_right_id'].str.replace('\\W', '')\n",
    "dfmetadata['ear_tag_left_id'] = dfmetadata['ear_tag_left_id'].str.replace('\\W', '')"
   ]
  },
  {
   "cell_type": "markdown",
   "id": "785be379-6c1d-4ed8-a3a1-604c710ac9ad",
   "metadata": {},
   "source": [
    "## Sort out logic for offline data, if mort data or malfunciton date is filled in, offline_date equals one, if both null, offline_date is null"
   ]
  },
  {
   "cell_type": "code",
   "execution_count": null,
   "id": "b569e20d-367c-4298-87ec-63a4356479ab",
   "metadata": {},
   "outputs": [],
   "source": [
    "# Create a concatenated column for malfunction and mortalilty date columns\n",
    "# add retrieval date to date list\n",
    "# Written by Orla O!\n",
    "dfmetadata['mort_mal'] = dfmetadata[['malftunction_date', 'mortality_date','retrieval_date']].apply(lambda x: ''.join(str(value) for value in x), axis=1)\n",
    "dfmetadata['mort_mal'] = dfmetadata['mort_mal'].replace(\"NaTNaTNaT\", 0, regex=True)\n",
    "\n",
    "# replace 'offline_date' with a null if 'mort_mal' is 0 (i.e. null)\n",
    "dfmetadata['offline_date'] = np.where(dfmetadata['mort_mal'] == 0, np.nan, dfmetadata['offline_date'])\n",
    "\n",
    "# delete 'mort_mal' column\n",
    "dfmetadata = dfmetadata.drop(columns=['mort_mal'])"
   ]
  },
  {
   "cell_type": "code",
   "execution_count": null,
   "id": "2b588514-e112-4825-9b56-561d31139679",
   "metadata": {
    "scrolled": true,
    "tags": []
   },
   "outputs": [],
   "source": [
    "dfmetadata"
   ]
  },
  {
   "cell_type": "markdown",
   "id": "1491c89b-279c-4be6-a46c-cd9def587c94",
   "metadata": {},
   "source": [
    "## Create critter code field to identify duplicate critters, this will capture recaptured data or duplicate wlh_id\n",
    "Zero out wlh_id that are blank, so value can still be unique"
   ]
  },
  {
   "cell_type": "code",
   "execution_count": null,
   "id": "8bad44b7-d9a8-41e9-becd-e3fb06d8b354",
   "metadata": {},
   "outputs": [],
   "source": [
    "# fill blank wlh_id with 0 so it will still create a code \n",
    "dfmetadata['wlh_id']= dfmetadata['wlh_id'].fillna(0)\n",
    "# create crittercode field to determine if animal has more than 1 record\n",
    "dfmetadata['crittercode']= dfmetadata['wlh_id'].astype(str).str.cat(dfmetadata['animal_id'].astype(str), sep=\"_\")"
   ]
  },
  {
   "cell_type": "code",
   "execution_count": null,
   "id": "1fee2862-1542-4a54-a49f-389ee233b790",
   "metadata": {},
   "outputs": [],
   "source": [
    "# append duplicate field information to the dataframe\n",
    "dfmetadata['duplicate']=dfmetadata.duplicated(subset='crittercode',keep=False)"
   ]
  },
  {
   "cell_type": "markdown",
   "id": "26540c4d-351c-47c1-b7bd-795d2eb27c79",
   "metadata": {
    "tags": []
   },
   "source": [
    "## Load blank csv templates and put matching fields into them and export as csv\n",
    "Animal output split into recapture and not recpature. Recaptures needs to be handled differently and require the animal uid to be assigned to it. Might have to consider manually adding those records. Solution unclear."
   ]
  },
  {
   "cell_type": "code",
   "execution_count": null,
   "id": "27242642-3320-4cb8-acdf-d0246a2453f5",
   "metadata": {},
   "outputs": [],
   "source": [
    "# blank csv used to format the output of the dataframes, this template was downloaded from BCTW data import wizard\n",
    "dfanimal = pd.read_csv(animal)\n",
    "dfdevice = pd.read_csv(device)"
   ]
  },
  {
   "cell_type": "code",
   "execution_count": null,
   "id": "d599b3c0-8c38-4794-bb85-91fb60fde582",
   "metadata": {},
   "outputs": [],
   "source": [
    "# filter dfmetadata for duplicates\n",
    "dfmetadata['created_by_user_id']=0\n",
    "dfmetadatadupe = dfmetadata[dfmetadata['duplicate']==True]\n",
    "dfmetadatanotdupe = dfmetadata[dfmetadata['duplicate']==False]\n"
   ]
  },
  {
   "cell_type": "code",
   "execution_count": null,
   "id": "1cb0e96e-3c94-4d3c-807c-2e361984e810",
   "metadata": {
    "scrolled": true,
    "tags": []
   },
   "outputs": [],
   "source": [
    "# load blank templates into df\n",
    "dfdeviceout = pd.concat([dfdevice, dfmetadatanotdupe],join='inner')\n",
    "dfdeviceout['valid_to']=dfdeviceout['offline_date']\n",
    "dfdeviceoutrecap = pd.concat([dfdevice, dfmetadatadupe],join='inner')\n",
    "dfdeviceoutrecap['valid_to']=dfdeviceout['offline_date']\n",
    "dfanimalout = pd.concat([dfanimal, dfmetadatanotdupe],join='inner')\n",
    "dfanimaloutrecap = pd.concat([dfanimal, dfmetadatadupe],join='inner')"
   ]
  },
  {
   "cell_type": "code",
   "execution_count": null,
   "id": "29e1b06b-67b7-4b47-8bfb-17785ef3b4eb",
   "metadata": {},
   "outputs": [],
   "source": [
    "# concatenate animal fields into template, only fields that exist in the output will be copied\n",
    "outpatha = metadatasheet +'_'+ 'dfanimal.csv'\n",
    "a_output = os.path.join(outputloc,outpatha)\n",
    "dfanimalout.to_csv(a_output,index=False)"
   ]
  },
  {
   "cell_type": "code",
   "execution_count": null,
   "id": "3506ea70-b0da-4f88-90f4-3754d5a06ed8",
   "metadata": {},
   "outputs": [],
   "source": [
    "# concatenate animal fields into template, export only recapture records\n",
    "outpathar = metadatasheet +'_'+ 'recapture_dfanimal.csv'\n",
    "ar_output = os.path.join(outputloc,outpathar)\n",
    "dfanimaloutrecap.to_csv(ar_output,index=False)"
   ]
  },
  {
   "cell_type": "code",
   "execution_count": null,
   "id": "9c04a594-fefa-4fc1-89c8-76c5aaaf5b10",
   "metadata": {
    "scrolled": true,
    "tags": []
   },
   "outputs": [],
   "source": [
    "# concatenate device fields into template, only fields that exist in the output will be copied\n",
    "outpathd = metadatasheet +'_'+ 'dfdevice.csv'\n",
    "d_output = os.path.join(outputloc, outpathd)\n",
    "dfdeviceout.to_csv(d_output,index=False)"
   ]
  },
  {
   "cell_type": "code",
   "execution_count": null,
   "id": "a58d64eb-efc3-43d8-bd10-a2ae77b307e4",
   "metadata": {},
   "outputs": [],
   "source": [
    "# concatenate device fields into template, only fields that exist in the output will be copied\n",
    "outpathdd = metadatasheet +'_'+ 'duplicate_dfdevice.csv'\n",
    "dd_output = os.path.join(outputloc, outpathdd)\n",
    "dfdeviceoutrecap.to_csv(dd_output,index=False)"
   ]
  },
  {
   "cell_type": "code",
   "execution_count": null,
   "id": "8e036695-ee37-45a8-87f4-6fd0d13709ed",
   "metadata": {},
   "outputs": [],
   "source": []
  }
 ],
 "metadata": {
  "kernelspec": {
   "display_name": "Python 3",
   "language": "python",
   "name": "python3"
  },
  "language_info": {
   "codemirror_mode": {
    "name": "ipython",
    "version": 3
   },
   "file_extension": ".py",
   "mimetype": "text/x-python",
   "name": "python",
   "nbconvert_exporter": "python",
   "pygments_lexer": "ipython3",
   "version": "3.6.13"
  }
 },
 "nbformat": 4,
 "nbformat_minor": 5
}
