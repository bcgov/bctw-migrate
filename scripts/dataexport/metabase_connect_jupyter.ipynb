{
 "cells": [
  {
   "cell_type": "code",
   "execution_count": 49,
   "id": "bd592848",
   "metadata": {},
   "outputs": [],
   "source": [
    "from metabasepy import Client,MetabaseTableParser\n",
    "import configparser\n",
    "import pandas as pd\n",
    "import arcgis\n",
    "from arcgis.features import GeoAccessor\n",
    "import os\n",
    "\n",
    "ini = r\"W:\\env\\esd\\eis\\wld\\caribou\\bctw_working\\dataexport\\config.ini\""
   ]
  },
  {
   "cell_type": "code",
   "execution_count": 50,
   "id": "31aaebcb",
   "metadata": {
    "scrolled": true,
    "tags": []
   },
   "outputs": [],
   "source": [
    "def getpandas_sdf(in_ini,out_loc,out_name):\n",
    "    final_out=os.path.join(out_loc,out_name)\n",
    "    config=configparser.ConfigParser()\n",
    "    config.read(in_ini)\n",
    "    if config.has_section('metabase')==True:\n",
    "        try:\n",
    "            user = config.get('metabase','username')\n",
    "            passw = config.get('metabase','password')\n",
    "            metaurl = config.get('metabase','url')\n",
    "            dataid = config.get('metabase','databaseid')\n",
    "            \n",
    "            cli = Client(user,passw,metaurl)\n",
    "            cli.authenticate()\n",
    "            \n",
    "            json_result = cli.cards.download(dataid,format='json')\n",
    "            df=pd.DataFrame(json_result)\n",
    "            sdf=GeoAccessor.from_xy(df,'Longitude','Latitude', sr=4326)\n",
    "            sdf.spatial.to_featureclass(final_out)\n",
    "        except:\n",
    "            print(\"Something wrong with INI login\")    \n",
    "    else:\n",
    "        return(\"Metabase section not present in INI\")    \n"
   ]
  },
  {
   "cell_type": "code",
   "execution_count": 51,
   "id": "1941a969",
   "metadata": {
    "scrolled": true
   },
   "outputs": [],
   "source": [
    "getpandas_sdf(ini,r\"W:\\env\\esd\\eis\\wld\\caribou\\bctw_working\\Notebook Data Export\\Notebook Data Export.gdb\",\"output1\")"
   ]
  },
  {
   "cell_type": "code",
   "execution_count": null,
   "id": "dd592ea2",
   "metadata": {},
   "outputs": [],
   "source": []
  }
 ],
 "metadata": {
  "kernelspec": {
   "display_name": "ArcGISPro",
   "language": "Python",
   "name": "python3"
  },
  "language_info": {
   "file_extension": ".py",
   "name": "python",
   "version": "3"
  }
 },
 "nbformat": 4,
 "nbformat_minor": 5
}
