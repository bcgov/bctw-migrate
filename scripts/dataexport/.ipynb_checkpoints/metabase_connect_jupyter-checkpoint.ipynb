{
 "cells": [
  {
   "cell_type": "markdown",
   "id": "e4d22670-310f-478b-a586-207bcb4a9c30",
   "metadata": {},
   "source": [
    "# Script connects to metabase and exports data #"
   ]
  },
  {
   "cell_type": "markdown",
   "id": "b6acc9cd-caa7-486f-bdeb-241cbfbee0a4",
   "metadata": {},
   "source": [
    "## Import required packages and pass ini file ##\n",
    "metabasepy comes from https://github.com/mertsalik/metabasepy\n",
    "\n",
    "Todo: package script with dependancies\n"
   ]
  },
  {
   "cell_type": "code",
   "execution_count": null,
   "id": "d444d99b-b211-46e2-8e29-b31fe3330360",
   "metadata": {},
   "outputs": [],
   "source": [
    "## check if packages are present, if not install them with pip"
   ]
  },
  {
   "cell_type": "code",
   "execution_count": null,
   "id": "909f4660-4237-4712-add4-33a63e61c717",
   "metadata": {
    "tags": []
   },
   "outputs": [],
   "source": [
    "import pkg_resources\n",
    "import sys\n",
    "req_packages = ['metabasepy','pandas','arcgis','configparser','os']\n",
    "\n",
    "installed_packages = pkg_resources.working_set\n",
    "installed_packages_list = sorted([(i.key) for i in installed_packages])\n",
    "for pkg in req_packages:\n",
    "    if pkg in installed_packages_list:\n",
    "        print((\"Found {}! Good to go!\").format(pkg))\n",
    "    else:\n",
    "        print((\"Cant find {}! Install {} before continuing!\").format(pkg,pkg))\n",
    "\n"
   ]
  },
  {
   "cell_type": "code",
   "execution_count": null,
   "id": "942ed51b-e4ef-4e5e-9d0d-3541d757da91",
   "metadata": {},
   "outputs": [],
   "source": [
    "## ini file must contain [metabase] header, username, password, url, databaseid. \n",
    "## see template in repo for example"
   ]
  },
  {
   "cell_type": "code",
   "execution_count": null,
   "id": "bd592848",
   "metadata": {},
   "outputs": [],
   "source": [
    "from metabasepy import Client,MetabaseTableParser\n",
    "import configparser\n",
    "import pandas as pd\n",
    "import arcgis\n",
    "from arcgis.features import GeoAccessor\n",
    "import os\n",
    "\n",
    "ini = r\"\""
   ]
  },
  {
   "cell_type": "code",
   "execution_count": null,
   "id": "fa070d7b-4cde-43e8-b42e-040755ba4d93",
   "metadata": {},
   "outputs": [],
   "source": [
    "## getpanas_sdf_exportgdb grabs all data in databaseid ini \n",
    "## currently configured to export to geodatabase\n",
    "## returns up to 1,000,000 rows to gdb"
   ]
  },
  {
   "cell_type": "code",
   "execution_count": null,
   "id": "31aaebcb",
   "metadata": {
    "scrolled": true,
    "tags": []
   },
   "outputs": [],
   "source": [
    "def getpandas_sdf_exportgdb(in_ini,out_loc,out_name,data_id):\n",
    "    final_out=os.path.join(out_loc,out_name)\n",
    "    config=configparser.ConfigParser()\n",
    "    config.read(in_ini)\n",
    "    if config.has_section('metabase')==True:\n",
    "        try:\n",
    "            user = config.get('metabase','username')\n",
    "            passw = config.get('metabase','password')\n",
    "            metaurl = config.get('metabase','url')\n",
    "            \n",
    "            cli = Client(user,passw,metaurl)\n",
    "            cli.authenticate()\n",
    "            \n",
    "            json_result = cli.cards.download(data_id,format='json')\n",
    "            df=pd.DataFrame(json_result)\n",
    "            sdf=GeoAccessor.from_xy(df,'Longitude','Latitude', sr=4326)\n",
    "            sdf.spatial.to_featureclass(final_out)\n",
    "        except:\n",
    "            print(\"Something wrong with INI login\")    \n",
    "    else:\n",
    "        print(\"Metabase section not present in INI\")    \n"
   ]
  },
  {
   "cell_type": "code",
   "execution_count": null,
   "id": "62b5aa62-706a-4b89-a656-eb54615387c5",
   "metadata": {},
   "outputs": [],
   "source": [
    "## getpandas_sdf returns all data found in databaseid ini as a spatially enabled pandas dataframe\n",
    "## returns up to 1,000,000 rows"
   ]
  },
  {
   "cell_type": "code",
   "execution_count": null,
   "id": "dd592ea2",
   "metadata": {},
   "outputs": [],
   "source": [
    "def getpandas_sdf(in_ini,data_id):\n",
    "    config=configparser.ConfigParser()\n",
    "    config.read(in_ini)\n",
    "    if config.has_section('metabase')==True:\n",
    "        try:\n",
    "            user = config.get('metabase','username')\n",
    "            passw = config.get('metabase','password')\n",
    "            metaurl = config.get('metabase','url')\n",
    "            \n",
    "            cli = Client(user,passw,metaurl)\n",
    "            cli.authenticate()\n",
    "            \n",
    "            json_result = cli.cards.download(data_id,format='json')\n",
    "            df=pd.DataFrame(json_result)\n",
    "            sdf=GeoAccessor.from_xy(df,'Longitude','Latitude', sr=4326)\n",
    "            return sdf\n",
    "        except:\n",
    "            print(\"Something wrong with INI login\")    \n",
    "    else:\n",
    "        print(\"Metabase section not present in INI\")    \n"
   ]
  },
  {
   "cell_type": "code",
   "execution_count": null,
   "id": "e14d1a2c-0af5-4219-993d-b6b559e86d87",
   "metadata": {},
   "outputs": [],
   "source": [
    "## get pandas with query and returns data from dataset. this id used for this is different than the getpandas_sdf function. dataset id is different than question id.\n",
    "## major flaw: only returns 2000 rows.\n",
    "## can be used to return counts or summary information"
   ]
  },
  {
   "cell_type": "code",
   "execution_count": null,
   "id": "1eb9ab2d-c191-4fa3-ac9c-e5064482a01e",
   "metadata": {},
   "outputs": [],
   "source": [
    "def getpandas_with_query(in_ini,sql,databaseid):\n",
    "    config=configparser.ConfigParser()\n",
    "    config.read(in_ini)\n",
    "    if config.has_section('metabase')==True:\n",
    "        try:\n",
    "            user = config.get('metabase','username')\n",
    "            passw = config.get('metabase','password')\n",
    "            metaurl = config.get('metabase','url')\n",
    "                        \n",
    "            cli = Client(user,passw,metaurl)\n",
    "            cli.authenticate()\n",
    "            \n",
    "            result = cli.dataset.post(databaseid, query=sql)\n",
    "\n",
    "            data_table = MetabaseTableParser.get_table(metabase_response=result)\n",
    "            \n",
    "            cols= []\n",
    "            for name in data_table.__dict__['cols']:\n",
    "                cols.append(name['display_name'])\n",
    "\n",
    "            df = pd.DataFrame(data_table.__dict__['rows'], columns = cols )\n",
    "            return df\n",
    "        except:\n",
    "            print(\"Something wrong with INI login\")    \n",
    "    else:\n",
    "        print(\"Metabase section not present in INI\")    \n",
    "          "
   ]
  }
 ],
 "metadata": {
  "kernelspec": {
   "display_name": "Python 3 (ipykernel)",
   "language": "python",
   "name": "python3"
  },
  "language_info": {
   "codemirror_mode": {
    "name": "ipython",
    "version": 3
   },
   "file_extension": ".py",
   "mimetype": "text/x-python",
   "name": "python",
   "nbconvert_exporter": "python",
   "pygments_lexer": "ipython3",
   "version": "3.9.5"
  }
 },
 "nbformat": 4,
 "nbformat_minor": 5
}
