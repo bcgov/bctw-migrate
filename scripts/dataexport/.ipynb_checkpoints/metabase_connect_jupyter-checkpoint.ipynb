{
 "cells": [
  {
   "cell_type": "code",
   "execution_count": 7,
   "id": "bfce8da8-aecd-4482-be93-9282cea180aa",
   "metadata": {},
   "outputs": [],
   "source": [
    "from metabasepy import Client,MetabaseTableParser\n",
    "import configparser\n",
    "import pandas as pd\n",
    "import arcgis"
   ]
  },
  {
   "cell_type": "markdown",
   "id": "0cef3668-3167-48c8-b130-ad04b80abb61",
   "metadata": {},
   "source": [
    "## PD"
   ]
  },
  {
   "cell_type": "code",
   "execution_count": 18,
   "id": "1b8cac67-0059-496c-913c-7782f85e719a",
   "metadata": {
    "scrolled": true,
    "tags": []
   },
   "outputs": [
    {
     "name": "stdout",
     "output_type": "stream",
     "text": [
      "      Elevation      Ecefy   Longitude  \\\n",
      "0        1193.0 -3217610.0 -124.306893   \n",
      "1        1230.0 -3199544.0 -125.186151   \n",
      "2        1252.0 -3197644.0 -125.023481   \n",
      "3        1364.0 -3204404.0 -124.507409   \n",
      "4        1387.0 -3203416.0 -124.512938   \n",
      "...         ...        ...         ...   \n",
      "5675     1714.0 -3187122.0 -124.756466   \n",
      "5676     1645.0 -3178150.0 -124.954313   \n",
      "5677     1666.0 -3149958.0 -125.337268   \n",
      "5678     1551.0 -3191920.0 -124.813624   \n",
      "5679     1543.0 -3148382.0 -125.342153   \n",
      "\n",
      "                                                   Geom  Deviceid  \\\n",
      "0     0101000020E61000000AE8AB22A4135FC0D3148D10D23A...     43067   \n",
      "1     0101000020E6100000DC59C4E5E94B5FC0F179AB0B691E...     34719   \n",
      "2     0101000020E610000088BD63B880415FC0CA1329E9252D...     43079   \n",
      "3     0101000020E6100000CA168A6379205FC0250C6FEAA644...     43090   \n",
      "4     0101000020E610000025AE16F8D3205FC0ABCEAB200946...     43090   \n",
      "...                                                 ...       ...   \n",
      "5675  0101000020E6100000B7D784EF69305FC0E925186C7C52...     42152   \n",
      "5676  0101000020E6100000919F6478133D5FC028A978E8BF54...     45376   \n",
      "5677  0101000020E610000090E799CA95555FC0463B9348456C...     45670   \n",
      "5678  0101000020E6100000B4C4C86A12345FC0E2272169FD45...     42163   \n",
      "5679  0101000020E6100000850999D4E5555FC08B3646169D6E...     43083   \n",
      "\n",
      "      Bckupbattvolt At Numsats  Federal Or Prov Statue Ind  Temperature  \\\n",
      "0              3.60       None                       False          5.0   \n",
      "1              3.52       None                       False          3.0   \n",
      "2              3.68       None                       False         12.0   \n",
      "3              3.60       None                       False          3.0   \n",
      "4              3.60       None                       False         12.0   \n",
      "...             ...        ...                         ...          ...   \n",
      "5675           3.52       None                       False          9.0   \n",
      "5676           3.68       None                       False          2.0   \n",
      "5677           3.60       None                       False          6.0   \n",
      "5678           3.68       None                       False         11.0   \n",
      "5679           3.60       None                       False         13.0   \n",
      "\n",
      "      Ve Fixtype  ...  Proprietary Ind     Vendor At Hdop  \\\n",
      "0              5  ...            False  Vectronic    None   \n",
      "1              5  ...            False  Vectronic    None   \n",
      "2              5  ...            False  Vectronic    None   \n",
      "3              5  ...            False  Vectronic    None   \n",
      "4              5  ...            False  Vectronic    None   \n",
      "...          ...  ...              ...        ...     ...   \n",
      "5675           5  ...            False  Vectronic    None   \n",
      "5676           5  ...            False  Vectronic    None   \n",
      "5677           5  ...            False  Vectronic    None   \n",
      "5678           5  ...            False  Vectronic    None   \n",
      "5679           5  ...            False  Vectronic    None   \n",
      "\n",
      "      Persecution Or Harm Ind  Species Ve Origincode  At Activity  \\\n",
      "0                       False  Caribou             I         None   \n",
      "1                       False  Caribou             I         None   \n",
      "2                       False  Caribou             I         None   \n",
      "3                       False  Caribou             I         None   \n",
      "4                       False  Caribou             I         None   \n",
      "...                       ...      ...           ...          ...   \n",
      "5675                    False  Caribou             I         None   \n",
      "5676                    False  Caribou             I         None   \n",
      "5677                    False  Caribou             I         None   \n",
      "5678                    False  Caribou             I         None   \n",
      "5679                    False  Caribou             I         None   \n",
      "\n",
      "      Government Interest Ind  Population Unit Mainbattvolt  \n",
      "0                       False   Itcha-Ilgachuz         3.28  \n",
      "1                       False   Itcha-Ilgachuz         3.28  \n",
      "2                       False   Itcha-Ilgachuz         3.36  \n",
      "3                       False   Itcha-Ilgachuz         3.36  \n",
      "4                       False   Itcha-Ilgachuz         3.36  \n",
      "...                       ...              ...          ...  \n",
      "5675                    False   Itcha-Ilgachuz         3.20  \n",
      "5676                    False   Itcha-Ilgachuz         3.36  \n",
      "5677                    False   Itcha-Ilgachuz         3.36  \n",
      "5678                    False   Itcha-Ilgachuz         3.36  \n",
      "5679                    False   Itcha-Ilgachuz         3.36  \n",
      "\n",
      "[5680 rows x 31 columns]\n"
     ]
    }
   ],
   "source": [
    "ini = \"config.ini\"\n",
    "\n",
    "def getpandasdf(in_ini):\n",
    "    config=configparser.ConfigParser()\n",
    "    config.read(in_ini)\n",
    "    if config.has_section('metabase')==True:\n",
    "        try:\n",
    "            user = config.get('metabase','username')\n",
    "            passw = config.get('metabase','password')\n",
    "            metaurl = config.get('metabase','url')\n",
    "            dataid = config.get('metabase','databaseid')\n",
    "            cli = Client(user,passw,metaurl)\n",
    "\n",
    "            cli.authenticate()\n",
    "\n",
    "            json_result = cli.cards.download(dataid,format='json')\n",
    "            df=pd.DataFrame(json_result)\n",
    "            return df\n",
    "        except:\n",
    "            print(\"Something wrong with INI login\")    \n",
    "    else:\n",
    "        return(\"Metabase section not present in INI\")    \n",
    "\n",
    "\n",
    "\n",
    "print(getpandasdf(ini))"
   ]
  },
  {
   "cell_type": "markdown",
   "id": "552b2520-55fd-465d-add4-a1b4aac27f55",
   "metadata": {},
   "source": [
    "## geo\n"
   ]
  },
  {
   "cell_type": "code",
   "execution_count": 25,
   "id": "df298d36-fe73-4150-81bf-203b278a0361",
   "metadata": {},
   "outputs": [],
   "source": [
    "ini = \"config.ini\"\n",
    "\n",
    "def getpandas_sdf(in_ini):\n",
    "    config=configparser.ConfigParser()\n",
    "    config.read(in_ini)\n",
    "    if config.has_section('metabase')==True:\n",
    "        try:\n",
    "            user = config.get('metabase','username')\n",
    "            passw = config.get('metabase','password')\n",
    "            metaurl = config.get('metabase','url')\n",
    "            dataid = config.get('metabase','databaseid')\n",
    "            cli = Client(user,passw,metaurl)\n",
    "\n",
    "            cli.authenticate()\n",
    "            json_result = cli.cards.download(dataid,format='json')\n",
    "            return json_result[:100]\n",
    "        except:\n",
    "            print(\"Something wrong with INI login\")    \n",
    "    else:\n",
    "        return(\"Metabase section not present in INI\")    \n",
    "\n"
   ]
  },
  {
   "cell_type": "code",
   "execution_count": 26,
   "id": "e90cfbbf-14d0-4abe-8daf-56f73f16c002",
   "metadata": {},
   "outputs": [],
   "source": [
    "indata = getpandas_sdf(ini)"
   ]
  },
  {
   "cell_type": "code",
   "execution_count": null,
   "id": "5da6e99b-1af3-42eb-96da-8f4bdc3751bb",
   "metadata": {},
   "outputs": [],
   "source": []
  }
 ],
 "metadata": {
  "kernelspec": {
   "display_name": "Python 3 (ipykernel)",
   "language": "python",
   "name": "python3"
  },
  "language_info": {
   "codemirror_mode": {
    "name": "ipython",
    "version": 3
   },
   "file_extension": ".py",
   "mimetype": "text/x-python",
   "name": "python",
   "nbconvert_exporter": "python",
   "pygments_lexer": "ipython3",
   "version": "3.9.5"
  }
 },
 "nbformat": 4,
 "nbformat_minor": 5
}
